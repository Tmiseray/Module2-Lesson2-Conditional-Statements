{
 "cells": [
  {
   "cell_type": "code",
   "execution_count": 18,
   "metadata": {},
   "outputs": [
    {
     "name": "stdout",
     "output_type": "stream",
     "text": [
      "The largest number you provided is 1597\n"
     ]
    }
   ],
   "source": [
    "# 2. The Greatest Showdown\n",
    "\n",
    "# Task 1: Identify the Greatest \n",
    "\n",
    "# Write a Python program that asks the user to enter three numbers. \n",
    "# Your code should then identify and print out the largest number among the three.\n",
    "\n",
    "num1, num2, num3 = input(\"Enter three numbers: \").split()\n",
    "\n",
    "num_list = [int(num1), int(num2), int(num3)]\n",
    "\n",
    "num_list.sort()\n",
    "\n",
    "print(\"The largest number you provided is\", num_list[-1])\n",
    "\n",
    "# Alternate Method\n",
    "\n",
    "# num1 = int(input(\"\"\"I will be telling you the largest number out of three that you choose. \n",
    "#              Enter your first number: \"\"\"))\n",
    "# num2 = int(input(\"Enter your second number: \"))\n",
    "# num3 = int(input(\"Enter your final number: \"))\n",
    "\n",
    "# num_list = [num1, num2, num3]\n",
    "\n",
    "# print(\"Hmmm... It looks like the largest number is\", max(num_list))"
   ]
  },
  {
   "cell_type": "code",
   "execution_count": 23,
   "metadata": {},
   "outputs": [
    {
     "name": "stdout",
     "output_type": "stream",
     "text": [
      "Hmmm... It looks like the smallest number is 0\n"
     ]
    }
   ],
   "source": [
    "# Task 2: Identify the Smallest \n",
    "\n",
    "# Improve upon your code from Task 1 to also determine the smallest number among \n",
    "# the three and print it out.\n",
    "\n",
    "# Expected Outcome: \n",
    "# If we provide the numbers 3, 3, and 4, \n",
    "# it should print out that \"The smallest number is 3. The largest number is 4. \"\n",
    "\n",
    "# num1, num2, num3 = input(\"Enter three numbers: \").split()\n",
    "\n",
    "# num_list = [int(num1), int(num2), int(num3)]\n",
    "\n",
    "# num_list.sort()\n",
    "\n",
    "# print(\"The smallest number you provided is\", num_list[0])\n",
    "\n",
    "# Alternate Method\n",
    "\n",
    "num1 = int(input(\"\"\"I will be telling you the smallest number out of three that you choose. \n",
    "             Enter your first number: \"\"\"))\n",
    "num2 = int(input(\"Enter your second number: \"))\n",
    "num3 = int(input(\"Enter your final number: \"))\n",
    "\n",
    "num_list = [num1, num2, num3]\n",
    "\n",
    "print(\"Hmmm... It looks like the smallest number is\", min(num_list))"
   ]
  },
  {
   "cell_type": "code",
   "execution_count": null,
   "metadata": {},
   "outputs": [],
   "source": []
  }
 ],
 "metadata": {
  "kernelspec": {
   "display_name": "Python 3",
   "language": "python",
   "name": "python3"
  },
  "language_info": {
   "codemirror_mode": {
    "name": "ipython",
    "version": 3
   },
   "file_extension": ".py",
   "mimetype": "text/x-python",
   "name": "python",
   "nbconvert_exporter": "python",
   "pygments_lexer": "ipython3",
   "version": "3.10.6"
  }
 },
 "nbformat": 4,
 "nbformat_minor": 2
}
