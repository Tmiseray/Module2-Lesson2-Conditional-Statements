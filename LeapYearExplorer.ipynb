{
 "cells": [
  {
   "cell_type": "code",
   "execution_count": 14,
   "metadata": {},
   "outputs": [
    {
     "name": "stdout",
     "output_type": "stream",
     "text": [
      "The Centurial Year of 2000 is a Leap Year!\n"
     ]
    }
   ],
   "source": [
    "# 3. Leap Year Explorer\n",
    "\n",
    "# Task 1: Leap Year Checker \n",
    "\n",
    "# Write a Python program that prompts the user to input a year. \n",
    "# The program should determine if the given year is a leap year or not and then \n",
    "# display an appropriate message. \n",
    "\n",
    "# Please note that this is the definition of a leap year: \n",
    "# Every year that is exactly divisible by four is a leap year, \n",
    "# except for years that are exactly divisible by 100, but these centurial years \n",
    "# are leap years if they are exactly divisible by 400.\n",
    "\n",
    "# Expected Outcome: \n",
    "# If you test the year 1900, is should be False. \n",
    "# The year 2000 should be True. \n",
    "# The year 2024 should be True\n",
    "\n",
    "year = int(input(\"\"\"I will be checking to see if the year you provide is a Leap Year! \n",
    "             Please enter a year: \"\"\"))\n",
    "\n",
    "if year % 100 == 0:\n",
    "    if year % 400 == 0:\n",
    "        print(\"The Centurial Year of\", year, \"is a Leap Year!\")\n",
    "    elif year % 400 != 0:\n",
    "        print(\"The year of\", year, \"is a Centurial Year, but not a Leap Year.\")\n",
    "elif year % 100 != 0:\n",
    "    if year % 4 == 0:\n",
    "        print(\"The year you provided is a Leap Year!\")\n",
    "    elif year % 4 != 0:\n",
    "        print(\"That year is not a Leap Year!\")\n",
    "\n"
   ]
  },
  {
   "cell_type": "code",
   "execution_count": null,
   "metadata": {},
   "outputs": [],
   "source": []
  }
 ],
 "metadata": {
  "kernelspec": {
   "display_name": "Python 3",
   "language": "python",
   "name": "python3"
  },
  "language_info": {
   "codemirror_mode": {
    "name": "ipython",
    "version": 3
   },
   "file_extension": ".py",
   "mimetype": "text/x-python",
   "name": "python",
   "nbconvert_exporter": "python",
   "pygments_lexer": "ipython3",
   "version": "3.10.6"
  }
 },
 "nbformat": 4,
 "nbformat_minor": 2
}
