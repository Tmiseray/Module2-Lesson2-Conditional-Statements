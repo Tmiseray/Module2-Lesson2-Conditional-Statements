{
 "cells": [
  {
   "cell_type": "code",
   "execution_count": 3,
   "metadata": {},
   "outputs": [
    {
     "name": "stdout",
     "output_type": "stream",
     "text": [
      "The number is negative.\n"
     ]
    }
   ],
   "source": [
    "# 1. Decisions at the Crossroad\n",
    "\n",
    "# Task 1: Code Correction \n",
    "\n",
    "# You are provided with a Python script that uses conditional statements to tell \n",
    "# if a number is positive, negative, or zero, but it has some errors. \n",
    "# Identify and fix them.\n",
    "\n",
    "# Buggy Code:\n",
    "\n",
    "# number = input(\"Enter a number: \")\n",
    "\n",
    "# if number > 0:\n",
    "#     print(\"The number is positive.\")\n",
    "# elif number = 0:\n",
    "#     print(\"The number is zero.\")\n",
    "# else number < 0:\n",
    "#     print(\"The number is negative.\")\n",
    "\n",
    "number = int(input(\"Enter a number: \"))\n",
    "\n",
    "if number > 0:\n",
    "    print(\"The number is positive.\")\n",
    "elif number == 0:\n",
    "    print(\"The number is zero.\")\n",
    "else:\n",
    "    print(\"The number is negative.\")"
   ]
  },
  {
   "cell_type": "code",
   "execution_count": null,
   "metadata": {},
   "outputs": [],
   "source": []
  }
 ],
 "metadata": {
  "kernelspec": {
   "display_name": "Python 3",
   "language": "python",
   "name": "python3"
  },
  "language_info": {
   "codemirror_mode": {
    "name": "ipython",
    "version": 3
   },
   "file_extension": ".py",
   "mimetype": "text/x-python",
   "name": "python",
   "nbconvert_exporter": "python",
   "pygments_lexer": "ipython3",
   "version": "3.10.6"
  }
 },
 "nbformat": 4,
 "nbformat_minor": 2
}
